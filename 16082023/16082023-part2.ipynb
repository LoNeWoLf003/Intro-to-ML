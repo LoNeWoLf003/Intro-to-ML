{
 "cells": [
  {
   "cell_type": "markdown",
   "metadata": {},
   "source": [
    "---\n",
    "# Introduction to Machine Learning - Lab 4.2\n",
    "\n",
    "#### Here we will take the dataset HR_comma_sep.csv and perform MLP (Multi-Layer Perceptron) on it\n",
    "---"
   ]
  },
  {
   "cell_type": "markdown",
   "metadata": {},
   "source": [
    "## Importing the Libraries\n",
    "---"
   ]
  },
  {
   "cell_type": "code",
   "execution_count": 1,
   "metadata": {},
   "outputs": [],
   "source": [
    "import numpy as np\n",
    "import pandas as pd\n",
    "from sklearn import preprocessing\n",
    "from sklearn.model_selection import train_test_split\n"
   ]
  },
  {
   "cell_type": "markdown",
   "metadata": {},
   "source": [
    "---\n",
    "## Reading the Dataset\n",
    "\n",
    "---"
   ]
  },
  {
   "cell_type": "code",
   "execution_count": 2,
   "metadata": {},
   "outputs": [
    {
     "data": {
      "text/html": [
       "<div>\n",
       "<style scoped>\n",
       "    .dataframe tbody tr th:only-of-type {\n",
       "        vertical-align: middle;\n",
       "    }\n",
       "\n",
       "    .dataframe tbody tr th {\n",
       "        vertical-align: top;\n",
       "    }\n",
       "\n",
       "    .dataframe thead th {\n",
       "        text-align: right;\n",
       "    }\n",
       "</style>\n",
       "<table border=\"1\" class=\"dataframe\">\n",
       "  <thead>\n",
       "    <tr style=\"text-align: right;\">\n",
       "      <th></th>\n",
       "      <th>satisfaction_level</th>\n",
       "      <th>last_evaluation</th>\n",
       "      <th>number_project</th>\n",
       "      <th>average_montly_hours</th>\n",
       "      <th>time_spend_company</th>\n",
       "      <th>Work_accident</th>\n",
       "      <th>left</th>\n",
       "      <th>promotion_last_5years</th>\n",
       "      <th>sales</th>\n",
       "      <th>salary</th>\n",
       "    </tr>\n",
       "  </thead>\n",
       "  <tbody>\n",
       "    <tr>\n",
       "      <th>0</th>\n",
       "      <td>0.38</td>\n",
       "      <td>0.53</td>\n",
       "      <td>2</td>\n",
       "      <td>157</td>\n",
       "      <td>3</td>\n",
       "      <td>0</td>\n",
       "      <td>1</td>\n",
       "      <td>0</td>\n",
       "      <td>sales</td>\n",
       "      <td>low</td>\n",
       "    </tr>\n",
       "    <tr>\n",
       "      <th>1</th>\n",
       "      <td>0.80</td>\n",
       "      <td>0.86</td>\n",
       "      <td>5</td>\n",
       "      <td>262</td>\n",
       "      <td>6</td>\n",
       "      <td>0</td>\n",
       "      <td>1</td>\n",
       "      <td>0</td>\n",
       "      <td>sales</td>\n",
       "      <td>medium</td>\n",
       "    </tr>\n",
       "    <tr>\n",
       "      <th>2</th>\n",
       "      <td>0.11</td>\n",
       "      <td>0.88</td>\n",
       "      <td>7</td>\n",
       "      <td>272</td>\n",
       "      <td>4</td>\n",
       "      <td>0</td>\n",
       "      <td>1</td>\n",
       "      <td>0</td>\n",
       "      <td>sales</td>\n",
       "      <td>medium</td>\n",
       "    </tr>\n",
       "    <tr>\n",
       "      <th>3</th>\n",
       "      <td>0.72</td>\n",
       "      <td>0.87</td>\n",
       "      <td>5</td>\n",
       "      <td>223</td>\n",
       "      <td>5</td>\n",
       "      <td>0</td>\n",
       "      <td>1</td>\n",
       "      <td>0</td>\n",
       "      <td>sales</td>\n",
       "      <td>low</td>\n",
       "    </tr>\n",
       "    <tr>\n",
       "      <th>4</th>\n",
       "      <td>0.37</td>\n",
       "      <td>0.52</td>\n",
       "      <td>2</td>\n",
       "      <td>159</td>\n",
       "      <td>3</td>\n",
       "      <td>0</td>\n",
       "      <td>1</td>\n",
       "      <td>0</td>\n",
       "      <td>sales</td>\n",
       "      <td>low</td>\n",
       "    </tr>\n",
       "  </tbody>\n",
       "</table>\n",
       "</div>"
      ],
      "text/plain": [
       "   satisfaction_level  last_evaluation  number_project  average_montly_hours  \\\n",
       "0                0.38             0.53               2                   157   \n",
       "1                0.80             0.86               5                   262   \n",
       "2                0.11             0.88               7                   272   \n",
       "3                0.72             0.87               5                   223   \n",
       "4                0.37             0.52               2                   159   \n",
       "\n",
       "   time_spend_company  Work_accident  left  promotion_last_5years  sales  \\\n",
       "0                   3              0     1                      0  sales   \n",
       "1                   6              0     1                      0  sales   \n",
       "2                   4              0     1                      0  sales   \n",
       "3                   5              0     1                      0  sales   \n",
       "4                   3              0     1                      0  sales   \n",
       "\n",
       "   salary  \n",
       "0     low  \n",
       "1  medium  \n",
       "2  medium  \n",
       "3     low  \n",
       "4     low  "
      ]
     },
     "execution_count": 2,
     "metadata": {},
     "output_type": "execute_result"
    }
   ],
   "source": [
    "data = pd.read_csv('HR_comma_sep.csv')\n",
    "data.head()\n"
   ]
  },
  {
   "cell_type": "markdown",
   "metadata": {},
   "source": [
    "---\n",
    "## Using the LabelEncoder()\n",
    "---"
   ]
  },
  {
   "cell_type": "code",
   "execution_count": 3,
   "metadata": {},
   "outputs": [],
   "source": [
    "le = preprocessing.LabelEncoder()\n"
   ]
  },
  {
   "cell_type": "markdown",
   "metadata": {},
   "source": [
    "---\n",
    "## Fitting the Model\n",
    "---"
   ]
  },
  {
   "cell_type": "code",
   "execution_count": 4,
   "metadata": {},
   "outputs": [
    {
     "name": "stdout",
     "output_type": "stream",
     "text": [
      "0        1\n",
      "1        2\n",
      "2        2\n",
      "3        1\n",
      "4        1\n",
      "        ..\n",
      "14994    1\n",
      "14995    1\n",
      "14996    1\n",
      "14997    1\n",
      "14998    1\n",
      "Name: salary, Length: 14999, dtype: int64\n"
     ]
    }
   ],
   "source": [
    "data['salary'] = le.fit_transform(data['salary'])\n",
    "data['sales'] = le.fit_transform(data['sales'])\n",
    "print(data['salary'])\n"
   ]
  },
  {
   "cell_type": "markdown",
   "metadata": {},
   "source": [
    "---\n",
    "## Splitting the Data into Features\n",
    "---"
   ]
  },
  {
   "cell_type": "code",
   "execution_count": 5,
   "metadata": {},
   "outputs": [],
   "source": [
    "x = data[['satisfaction_level', 'last_evaluation', 'number_project', 'average_montly_hours',\n",
    "          'time_spend_company', 'Work_accident', 'promotion_last_5years', 'sales', 'salary']]\n",
    "y=data['left']"
   ]
  },
  {
   "cell_type": "markdown",
   "metadata": {},
   "source": [
    "---\n",
    "## Splitting the Dataset into Test/Training Data\n",
    "---"
   ]
  },
  {
   "cell_type": "code",
   "execution_count": 6,
   "metadata": {},
   "outputs": [],
   "source": [
    "X_train, X_test,y_train,y_test = train_test_split(x,y,test_size=0.3,random_state=42)"
   ]
  },
  {
   "cell_type": "markdown",
   "metadata": {},
   "source": [
    "---\n",
    "## Implementing the MLP\n",
    "---"
   ]
  },
  {
   "cell_type": "code",
   "execution_count": 7,
   "metadata": {},
   "outputs": [],
   "source": [
    "from sklearn.neural_network import MLPClassifier"
   ]
  },
  {
   "cell_type": "code",
   "execution_count": 8,
   "metadata": {},
   "outputs": [],
   "source": [
    "clf=MLPClassifier(hidden_layer_sizes=(6,5),random_state=5,verbose=True,learning_rate_init=0.01)"
   ]
  },
  {
   "cell_type": "code",
   "execution_count": 9,
   "metadata": {},
   "outputs": [
    {
     "name": "stdout",
     "output_type": "stream",
     "text": [
      "Iteration 1, loss = 0.61512605\n",
      "Iteration 2, loss = 0.57545658\n",
      "Iteration 3, loss = 0.55823146\n",
      "Iteration 4, loss = 0.53011644\n",
      "Iteration 5, loss = 0.50549749\n",
      "Iteration 6, loss = 0.48004244\n",
      "Iteration 7, loss = 0.47915513\n",
      "Iteration 8, loss = 0.46239153\n",
      "Iteration 9, loss = 0.47441120\n",
      "Iteration 10, loss = 0.46241650\n",
      "Iteration 11, loss = 0.45068143\n",
      "Iteration 12, loss = 0.45071101\n",
      "Iteration 13, loss = 0.45213613\n",
      "Iteration 14, loss = 0.46049483\n",
      "Iteration 15, loss = 0.45897398\n",
      "Iteration 16, loss = 0.46170601\n",
      "Iteration 17, loss = 0.45527116\n",
      "Iteration 18, loss = 0.44996595\n",
      "Iteration 19, loss = 0.44982305\n",
      "Iteration 20, loss = 0.45384764\n",
      "Iteration 21, loss = 0.46981282\n",
      "Iteration 22, loss = 0.45010489\n",
      "Iteration 23, loss = 0.46852413\n",
      "Iteration 24, loss = 0.45242336\n",
      "Iteration 25, loss = 0.45769894\n",
      "Iteration 26, loss = 0.45074974\n",
      "Iteration 27, loss = 0.44067556\n",
      "Iteration 28, loss = 0.43205930\n",
      "Iteration 29, loss = 0.41680331\n",
      "Iteration 30, loss = 0.40752887\n",
      "Iteration 31, loss = 0.39186392\n",
      "Iteration 32, loss = 0.37054743\n",
      "Iteration 33, loss = 0.35797517\n",
      "Iteration 34, loss = 0.34539661\n",
      "Iteration 35, loss = 0.33669847\n",
      "Iteration 36, loss = 0.33052333\n",
      "Iteration 37, loss = 0.31754074\n",
      "Iteration 38, loss = 0.31470388\n",
      "Iteration 39, loss = 0.31036267\n",
      "Iteration 40, loss = 0.30717479\n",
      "Iteration 41, loss = 0.31789566\n",
      "Iteration 42, loss = 0.31782866\n",
      "Iteration 43, loss = 0.30641517\n",
      "Iteration 44, loss = 0.30123487\n",
      "Iteration 45, loss = 0.30474254\n",
      "Iteration 46, loss = 0.31051473\n",
      "Iteration 47, loss = 0.28624198\n",
      "Iteration 48, loss = 0.29316190\n",
      "Iteration 49, loss = 0.28463864\n",
      "Iteration 50, loss = 0.28582673\n",
      "Iteration 51, loss = 0.28378548\n",
      "Iteration 52, loss = 0.28098729\n",
      "Iteration 53, loss = 0.28513299\n",
      "Iteration 54, loss = 0.27992380\n",
      "Iteration 55, loss = 0.28034603\n",
      "Iteration 56, loss = 0.28447776\n",
      "Iteration 57, loss = 0.27920526\n",
      "Iteration 58, loss = 0.27545140\n",
      "Iteration 59, loss = 0.27418263\n",
      "Iteration 60, loss = 0.26921345\n",
      "Iteration 61, loss = 0.27200225\n",
      "Iteration 62, loss = 0.26757142\n",
      "Iteration 63, loss = 0.26824884\n",
      "Iteration 64, loss = 0.26115995\n",
      "Iteration 65, loss = 0.25875549\n",
      "Iteration 66, loss = 0.25919820\n",
      "Iteration 67, loss = 0.26178076\n",
      "Iteration 68, loss = 0.26228984\n",
      "Iteration 69, loss = 0.26001505\n",
      "Iteration 70, loss = 0.25199503\n",
      "Iteration 71, loss = 0.27545142\n",
      "Iteration 72, loss = 0.25545200\n",
      "Iteration 73, loss = 0.25464872\n",
      "Iteration 74, loss = 0.24550959\n",
      "Iteration 75, loss = 0.24336325\n",
      "Iteration 76, loss = 0.24215966\n",
      "Iteration 77, loss = 0.23850104\n",
      "Iteration 78, loss = 0.23889253\n",
      "Iteration 79, loss = 0.23109586\n",
      "Iteration 80, loss = 0.23399638\n",
      "Iteration 81, loss = 0.23802679\n",
      "Iteration 82, loss = 0.23385322\n",
      "Iteration 83, loss = 0.24284518\n",
      "Iteration 84, loss = 0.23134733\n",
      "Iteration 85, loss = 0.24330075\n",
      "Iteration 86, loss = 0.22532877\n",
      "Iteration 87, loss = 0.22568393\n",
      "Iteration 88, loss = 0.22081075\n",
      "Iteration 89, loss = 0.22846698\n",
      "Iteration 90, loss = 0.22502850\n",
      "Iteration 91, loss = 0.21784989\n",
      "Iteration 92, loss = 0.21292884\n",
      "Iteration 93, loss = 0.18813462\n",
      "Iteration 94, loss = 0.17769639\n",
      "Iteration 95, loss = 0.18582654\n",
      "Iteration 96, loss = 0.18127325\n",
      "Iteration 97, loss = 0.16734828\n",
      "Iteration 98, loss = 0.18286465\n",
      "Iteration 99, loss = 0.16981846\n",
      "Iteration 100, loss = 0.17330641\n",
      "Iteration 101, loss = 0.15969499\n",
      "Iteration 102, loss = 0.15829448\n",
      "Iteration 103, loss = 0.15677615\n",
      "Iteration 104, loss = 0.16861506\n",
      "Iteration 105, loss = 0.15665635\n",
      "Iteration 106, loss = 0.17290740\n",
      "Iteration 107, loss = 0.16313185\n",
      "Iteration 108, loss = 0.15127830\n",
      "Iteration 109, loss = 0.15304460\n",
      "Iteration 110, loss = 0.15963898\n",
      "Iteration 111, loss = 0.16963601\n",
      "Iteration 112, loss = 0.15063887\n",
      "Iteration 113, loss = 0.15393529\n",
      "Iteration 114, loss = 0.17528787\n",
      "Iteration 115, loss = 0.17271381\n",
      "Iteration 116, loss = 0.15426095\n",
      "Iteration 117, loss = 0.14971746\n",
      "Iteration 118, loss = 0.15078193\n",
      "Iteration 119, loss = 0.16200046\n",
      "Iteration 120, loss = 0.15242240\n",
      "Iteration 121, loss = 0.15700943\n",
      "Iteration 122, loss = 0.15836204\n",
      "Iteration 123, loss = 0.15847074\n",
      "Iteration 124, loss = 0.15069127\n",
      "Iteration 125, loss = 0.14876175\n",
      "Iteration 126, loss = 0.14993943\n",
      "Iteration 127, loss = 0.15168619\n",
      "Iteration 128, loss = 0.16245349\n",
      "Iteration 129, loss = 0.15119375\n",
      "Iteration 130, loss = 0.15576164\n",
      "Iteration 131, loss = 0.15837115\n",
      "Iteration 132, loss = 0.15242943\n",
      "Iteration 133, loss = 0.15235532\n",
      "Iteration 134, loss = 0.15423949\n",
      "Iteration 135, loss = 0.15300715\n",
      "Iteration 136, loss = 0.15038034\n",
      "Training loss did not improve more than tol=0.000100 for 10 consecutive epochs. Stopping.\n"
     ]
    },
    {
     "data": {
      "text/html": [
       "<style>#sk-container-id-1 {color: black;}#sk-container-id-1 pre{padding: 0;}#sk-container-id-1 div.sk-toggleable {background-color: white;}#sk-container-id-1 label.sk-toggleable__label {cursor: pointer;display: block;width: 100%;margin-bottom: 0;padding: 0.3em;box-sizing: border-box;text-align: center;}#sk-container-id-1 label.sk-toggleable__label-arrow:before {content: \"▸\";float: left;margin-right: 0.25em;color: #696969;}#sk-container-id-1 label.sk-toggleable__label-arrow:hover:before {color: black;}#sk-container-id-1 div.sk-estimator:hover label.sk-toggleable__label-arrow:before {color: black;}#sk-container-id-1 div.sk-toggleable__content {max-height: 0;max-width: 0;overflow: hidden;text-align: left;background-color: #f0f8ff;}#sk-container-id-1 div.sk-toggleable__content pre {margin: 0.2em;color: black;border-radius: 0.25em;background-color: #f0f8ff;}#sk-container-id-1 input.sk-toggleable__control:checked~div.sk-toggleable__content {max-height: 200px;max-width: 100%;overflow: auto;}#sk-container-id-1 input.sk-toggleable__control:checked~label.sk-toggleable__label-arrow:before {content: \"▾\";}#sk-container-id-1 div.sk-estimator input.sk-toggleable__control:checked~label.sk-toggleable__label {background-color: #d4ebff;}#sk-container-id-1 div.sk-label input.sk-toggleable__control:checked~label.sk-toggleable__label {background-color: #d4ebff;}#sk-container-id-1 input.sk-hidden--visually {border: 0;clip: rect(1px 1px 1px 1px);clip: rect(1px, 1px, 1px, 1px);height: 1px;margin: -1px;overflow: hidden;padding: 0;position: absolute;width: 1px;}#sk-container-id-1 div.sk-estimator {font-family: monospace;background-color: #f0f8ff;border: 1px dotted black;border-radius: 0.25em;box-sizing: border-box;margin-bottom: 0.5em;}#sk-container-id-1 div.sk-estimator:hover {background-color: #d4ebff;}#sk-container-id-1 div.sk-parallel-item::after {content: \"\";width: 100%;border-bottom: 1px solid gray;flex-grow: 1;}#sk-container-id-1 div.sk-label:hover label.sk-toggleable__label {background-color: #d4ebff;}#sk-container-id-1 div.sk-serial::before {content: \"\";position: absolute;border-left: 1px solid gray;box-sizing: border-box;top: 0;bottom: 0;left: 50%;z-index: 0;}#sk-container-id-1 div.sk-serial {display: flex;flex-direction: column;align-items: center;background-color: white;padding-right: 0.2em;padding-left: 0.2em;position: relative;}#sk-container-id-1 div.sk-item {position: relative;z-index: 1;}#sk-container-id-1 div.sk-parallel {display: flex;align-items: stretch;justify-content: center;background-color: white;position: relative;}#sk-container-id-1 div.sk-item::before, #sk-container-id-1 div.sk-parallel-item::before {content: \"\";position: absolute;border-left: 1px solid gray;box-sizing: border-box;top: 0;bottom: 0;left: 50%;z-index: -1;}#sk-container-id-1 div.sk-parallel-item {display: flex;flex-direction: column;z-index: 1;position: relative;background-color: white;}#sk-container-id-1 div.sk-parallel-item:first-child::after {align-self: flex-end;width: 50%;}#sk-container-id-1 div.sk-parallel-item:last-child::after {align-self: flex-start;width: 50%;}#sk-container-id-1 div.sk-parallel-item:only-child::after {width: 0;}#sk-container-id-1 div.sk-dashed-wrapped {border: 1px dashed gray;margin: 0 0.4em 0.5em 0.4em;box-sizing: border-box;padding-bottom: 0.4em;background-color: white;}#sk-container-id-1 div.sk-label label {font-family: monospace;font-weight: bold;display: inline-block;line-height: 1.2em;}#sk-container-id-1 div.sk-label-container {text-align: center;}#sk-container-id-1 div.sk-container {/* jupyter's `normalize.less` sets `[hidden] { display: none; }` but bootstrap.min.css set `[hidden] { display: none !important; }` so we also need the `!important` here to be able to override the default hidden behavior on the sphinx rendered scikit-learn.org. See: https://github.com/scikit-learn/scikit-learn/issues/21755 */display: inline-block !important;position: relative;}#sk-container-id-1 div.sk-text-repr-fallback {display: none;}</style><div id=\"sk-container-id-1\" class=\"sk-top-container\"><div class=\"sk-text-repr-fallback\"><pre>MLPClassifier(hidden_layer_sizes=(6, 5), learning_rate_init=0.01,\n",
       "              random_state=5, verbose=True)</pre><b>In a Jupyter environment, please rerun this cell to show the HTML representation or trust the notebook. <br />On GitHub, the HTML representation is unable to render, please try loading this page with nbviewer.org.</b></div><div class=\"sk-container\" hidden><div class=\"sk-item\"><div class=\"sk-estimator sk-toggleable\"><input class=\"sk-toggleable__control sk-hidden--visually\" id=\"sk-estimator-id-1\" type=\"checkbox\" checked><label for=\"sk-estimator-id-1\" class=\"sk-toggleable__label sk-toggleable__label-arrow\">MLPClassifier</label><div class=\"sk-toggleable__content\"><pre>MLPClassifier(hidden_layer_sizes=(6, 5), learning_rate_init=0.01,\n",
       "              random_state=5, verbose=True)</pre></div></div></div></div></div>"
      ],
      "text/plain": [
       "MLPClassifier(hidden_layer_sizes=(6, 5), learning_rate_init=0.01,\n",
       "              random_state=5, verbose=True)"
      ]
     },
     "execution_count": 9,
     "metadata": {},
     "output_type": "execute_result"
    }
   ],
   "source": [
    "clf.fit(X_train,y_train)"
   ]
  },
  {
   "cell_type": "code",
   "execution_count": 10,
   "metadata": {},
   "outputs": [],
   "source": [
    "ypred=clf.predict(X_test)"
   ]
  },
  {
   "cell_type": "code",
   "execution_count": 11,
   "metadata": {},
   "outputs": [],
   "source": [
    "from sklearn.metrics import accuracy_score"
   ]
  },
  {
   "cell_type": "code",
   "execution_count": 12,
   "metadata": {},
   "outputs": [
    {
     "data": {
      "text/plain": [
       "0.9386666666666666"
      ]
     },
     "execution_count": 12,
     "metadata": {},
     "output_type": "execute_result"
    }
   ],
   "source": [
    "accuracy_score(y_test,ypred)"
   ]
  }
 ],
 "metadata": {
  "kernelspec": {
   "display_name": "Python 3",
   "language": "python",
   "name": "python3"
  },
  "language_info": {
   "codemirror_mode": {
    "name": "ipython",
    "version": 3
   },
   "file_extension": ".py",
   "mimetype": "text/x-python",
   "name": "python",
   "nbconvert_exporter": "python",
   "pygments_lexer": "ipython3",
   "version": "3.10.12"
  },
  "orig_nbformat": 4
 },
 "nbformat": 4,
 "nbformat_minor": 2
}
